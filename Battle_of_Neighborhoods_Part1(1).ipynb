{
 "cells": [
  {
   "cell_type": "markdown",
   "metadata": {},
   "source": [
    "# **The Battle of Neighborhoods Part 1**"
   ]
  },
  {
   "cell_type": "markdown",
   "metadata": {},
   "source": [
    "# Introduction"
   ]
  },
  {
   "cell_type": "markdown",
   "metadata": {},
   "source": [
    "**Guadalajara** is a metropolis on the western side of Mexico, and one of 32 states of the Mexican republic, with a population of more than 1,460,148 people and over 5,000,000 habitants in its metropolitan area. It is known for being the capital of the state Jalisco and a hub for business, finance, arts, culture and economics. It is home to most traditions identified with the country and products like Tequila, mariachi music and many traditional Mexican Food. \n",
    "\n",
    "The pearl of western Mexico is both a current and a historic majestic city, with dazzling qualities that welcomes all its visitors. Combining pleasant weather, various forms of entertainment, historical attractions and several tourist and cultural attractions, Guadalajara is one of the **most popular destinations in Mexico**."
   ]
  },
  {
   "cell_type": "markdown",
   "metadata": {},
   "source": [
    "This means that if you are planning on opening a restaurant on Guadalajara, get ready for a competitive market. New business venutures need to know how to play its cards, therefore they need to carefully examine the data gathered on the city, its population and its preferences to help **reduce** the risk of failure."
   ]
  },
  {
   "cell_type": "markdown",
   "metadata": {},
   "source": [
    " But, how can we do that? How can we use Foursquare location data and machine learning tools to help make **informed decisions** on the apporpiate neighborhood? And this is the problem I present to you, and that I will be addresing in this Capstone proyect."
   ]
  },
  {
   "cell_type": "markdown",
   "metadata": {},
   "source": [
    "# Data"
   ]
  },
  {
   "cell_type": "markdown",
   "metadata": {},
   "source": [
    "For this proyect we will be using the Foursquare API to get the venues in each district and the data containing the municipalities from [Wikipedia](https://es.wikipedia.org/wiki/Zona_metropolitana_de_Guadalajara#cite_note-INEGI_Pob_2010_resultados_definitivos-18) and its latitude and longitud using this other [wikipedia](https://es.wikipedia.org/wiki/Guadalajara_(M%C3%A9xico)) page"
   ]
  },
  {
   "cell_type": "code",
   "execution_count": null,
   "metadata": {},
   "outputs": [],
   "source": []
  }
 ],
 "metadata": {
  "kernelspec": {
   "display_name": "Python",
   "language": "python",
   "name": "conda-env-python-py"
  },
  "language_info": {
   "codemirror_mode": {
    "name": "ipython",
    "version": 3
   },
   "file_extension": ".py",
   "mimetype": "text/x-python",
   "name": "python",
   "nbconvert_exporter": "python",
   "pygments_lexer": "ipython3",
   "version": "3.6.11"
  }
 },
 "nbformat": 4,
 "nbformat_minor": 4
}
